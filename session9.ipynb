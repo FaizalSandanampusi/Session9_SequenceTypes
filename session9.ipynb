{
 "cells": [
  {
   "cell_type": "markdown",
   "metadata": {},
   "source": [
    "## Objective 1: Test ConvexPolygon"
   ]
  },
  {
   "cell_type": "code",
   "execution_count": 15,
   "metadata": {},
   "outputs": [
    {
     "name": "stdout",
     "output_type": "stream",
     "text": [
      "For the given Edges = 5 and Circumradius = 10\n",
      "Interior Angle = 108.0\n",
      "Edge Length = 11.76\n",
      "Apothem = 8.09\n",
      "Area = 237.85\n",
      "Perimeter = 58.8\n",
      "\n"
     ]
    }
   ],
   "source": [
    "#Import the modules\n",
    "from convex_polygon import ConvexPolygon\n",
    "\n",
    "polygon = ConvexPolygon(5, 10)\n",
    "print(polygon)\n"
   ]
  },
  {
   "cell_type": "markdown",
   "metadata": {},
   "source": [
    "## Objective 2: Test PolygonSequence"
   ]
  },
  {
   "cell_type": "code",
   "execution_count": 14,
   "metadata": {},
   "outputs": [
    {
     "name": "stdout",
     "output_type": "stream",
     "text": [
      "Polygon with the maximum efficiency is 25\n",
      "For the given Edges = 25 and Circumradius = 15\n",
      "Interior Angle = 165.6\n",
      "Edge Length = 3.76\n",
      "Apothem = 14.88\n",
      "Area = 699.36\n",
      "Perimeter = 94.0\n",
      "\n"
     ]
    }
   ],
   "source": [
    "from polygon_sequence import PolygonSequence\n",
    "\n",
    "polygons = PolygonSequence(25, 15)\n",
    "max_efficiency_polygon = polygons.max_efficiency_polygon\n",
    "print(f\"Polygon with the maximum efficiency is {max_efficiency_polygon.edges}\")\n",
    "print(max_efficiency_polygon)\n"
   ]
  },
  {
   "cell_type": "code",
   "execution_count": null,
   "metadata": {},
   "outputs": [],
   "source": []
  }
 ],
 "metadata": {
  "kernelspec": {
   "display_name": "Python 3",
   "language": "python",
   "name": "python3"
  },
  "language_info": {
   "codemirror_mode": {
    "name": "ipython",
    "version": 3
   },
   "file_extension": ".py",
   "mimetype": "text/x-python",
   "name": "python",
   "nbconvert_exporter": "python",
   "pygments_lexer": "ipython3",
   "version": "3.12.1"
  }
 },
 "nbformat": 4,
 "nbformat_minor": 2
}
